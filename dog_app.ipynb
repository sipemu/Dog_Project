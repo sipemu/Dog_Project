{
 "cells": [
  {
   "cell_type": "markdown",
   "metadata": {},
   "source": [
    "# Artificial Intelligence Nanodegree\n",
    "\n",
    "## Convolutional Neural Networks\n",
    "\n",
    "## Project: Write an Algorithm for a Dog Identification App \n",
    "\n",
    "---\n",
    "\n",
    "In this notebook, some template code has already been provided for you, and you will need to implement additional functionality to successfully complete this project. You will not need to modify the included code beyond what is requested. Sections that begin with **'(IMPLEMENTATION)'** in the header indicate that the following block of code will require additional functionality which you must provide. Instructions will be provided for each section, and the specifics of the implementation are marked in the code block with a 'TODO' statement. Please be sure to read the instructions carefully! \n",
    "\n",
    "> **Note**: Once you have completed all of the code implementations, you need to finalize your work by exporting the iPython Notebook as an HTML document. Before exporting the notebook to html, all of the code cells need to have been run so that reviewers can see the final implementation and output. You can then export the notebook by using the menu above and navigating to  \\n\",\n",
    "    \"**File -> Download as -> HTML (.html)**. Include the finished document along with this notebook as your submission.\n",
    "\n",
    "In addition to implementing code, there will be questions that you must answer which relate to the project and your implementation. Each section where you will answer a question is preceded by a **'Question X'** header. Carefully read each question and provide thorough answers in the following text boxes that begin with **'Answer:'**. Your project submission will be evaluated based on your answers to each of the questions and the implementation you provide.\n",
    "\n",
    ">**Note:** Code and Markdown cells can be executed using the **Shift + Enter** keyboard shortcut.  Markdown cells can be edited by double-clicking the cell to enter edit mode.\n",
    "\n",
    "The rubric contains _optional_ \"Stand Out Suggestions\" for enhancing the project beyond the minimum requirements. If you decide to pursue the \"Stand Out Suggestions\", you should include the code in this IPython notebook.\n",
    "\n",
    "\n",
    "\n",
    "---\n",
    "### Why We're Here \n",
    "\n",
    "In this notebook, you will make the first steps towards developing an algorithm that could be used as part of a mobile or web app.  At the end of this project, your code will accept any user-supplied image as input.  If a dog is detected in the image, it will provide an estimate of the dog's breed.  If a human is detected, it will provide an estimate of the dog breed that is most resembling.  The image below displays potential sample output of your finished project (... but we expect that each student's algorithm will behave differently!). \n",
    "\n",
    "![Sample Dog Output](images/sample_dog_output.png)\n",
    "\n",
    "In this real-world setting, you will need to piece together a series of models to perform different tasks; for instance, the algorithm that detects humans in an image will be different from the CNN that infers dog breed.  There are many points of possible failure, and no perfect algorithm exists.  Your imperfect solution will nonetheless create a fun user experience!\n",
    "\n",
    "### The Road Ahead\n",
    "\n",
    "We break the notebook into separate steps.  Feel free to use the links below to navigate the notebook.\n",
    "\n",
    "* [Step 0](#step0): Import Datasets\n",
    "* [Step 1](#step1): Detect Humans\n",
    "* [Step 2](#step2): Detect Dogs\n",
    "* [Step 3](#step3): Create a CNN to Classify Dog Breeds (from Scratch)\n",
    "* [Step 4](#step4): Use a CNN to Classify Dog Breeds (using Transfer Learning)\n",
    "* [Step 5](#step5): Create a CNN to Classify Dog Breeds (using Transfer Learning)\n",
    "* [Step 6](#step6): Write your Algorithm\n",
    "* [Step 7](#step7): Test Your Algorithm\n",
    "\n",
    "---\n",
    "<a id='step0'></a>\n",
    "## Step 0: Import Datasets\n",
    "\n",
    "### Import Dog Dataset\n",
    "\n",
    "In the code cell below, we import a dataset of dog images.  We populate a few variables through the use of the `load_files` function from the scikit-learn library:\n",
    "- `train_files`, `valid_files`, `test_files` - numpy arrays containing file paths to images\n",
    "- `train_targets`, `valid_targets`, `test_targets` - numpy arrays containing onehot-encoded classification labels \n",
    "- `dog_names` - list of string-valued dog breed names for translating labels"
   ]
  },
  {
   "cell_type": "code",
   "execution_count": 1,
   "metadata": {},
   "outputs": [
    {
     "name": "stderr",
     "output_type": "stream",
     "text": [
      "Using TensorFlow backend.\n"
     ]
    },
    {
     "name": "stdout",
     "output_type": "stream",
     "text": [
      "There are 133 total dog categories.\n",
      "There are 8351 total dog images.\n",
      "\n",
      "There are 6680 training dog images.\n",
      "There are 835 validation dog images.\n",
      "There are 836 test dog images.\n"
     ]
    }
   ],
   "source": [
    "from sklearn.datasets import load_files       \n",
    "from keras.utils import np_utils\n",
    "import numpy as np\n",
    "from glob import glob\n",
    "\n",
    "# define function to load train, test, and validation datasets\n",
    "def load_dataset(path):\n",
    "    data = load_files(path)\n",
    "    dog_files = np.array(data['filenames'])\n",
    "    dog_targets = np_utils.to_categorical(np.array(data['target']), 133)\n",
    "    return dog_files, dog_targets\n",
    "\n",
    "# load train, test, and validation datasets\n",
    "train_files, train_targets = load_dataset('dogImages/train')\n",
    "valid_files, valid_targets = load_dataset('dogImages/valid')\n",
    "test_files, test_targets = load_dataset('dogImages/test')\n",
    "\n",
    "# load list of dog names\n",
    "dog_names = [item[20:-1] for item in sorted(glob(\"dogImages/train/*/\"))]\n",
    "\n",
    "# print statistics about the dataset\n",
    "print('There are %d total dog categories.' % len(dog_names))\n",
    "print('There are %s total dog images.\\n' % len(np.hstack([train_files, valid_files, test_files])))\n",
    "print('There are %d training dog images.' % len(train_files))\n",
    "print('There are %d validation dog images.' % len(valid_files))\n",
    "print('There are %d test dog images.'% len(test_files))"
   ]
  },
  {
   "cell_type": "markdown",
   "metadata": {},
   "source": [
    "### Import Human Dataset\n",
    "\n",
    "In the code cell below, we import a dataset of human images, where the file paths are stored in the numpy array `human_files`."
   ]
  },
  {
   "cell_type": "code",
   "execution_count": 2,
   "metadata": {},
   "outputs": [
    {
     "name": "stdout",
     "output_type": "stream",
     "text": [
      "There are 13233 total human images.\n"
     ]
    }
   ],
   "source": [
    "import random\n",
    "random.seed(8675309)\n",
    "\n",
    "# load filenames in shuffled human dataset\n",
    "human_files = np.array(glob(\"lfw/*/*\"))\n",
    "random.shuffle(human_files)\n",
    "\n",
    "# print statistics about the dataset\n",
    "print('There are %d total human images.' % len(human_files))"
   ]
  },
  {
   "cell_type": "markdown",
   "metadata": {},
   "source": [
    "---\n",
    "<a id='step1'></a>\n",
    "## Step 1: Detect Humans\n",
    "\n",
    "We use OpenCV's implementation of [Haar feature-based cascade classifiers](http://docs.opencv.org/trunk/d7/d8b/tutorial_py_face_detection.html) to detect human faces in images.  OpenCV provides many pre-trained face detectors, stored as XML files on [github](https://github.com/opencv/opencv/tree/master/data/haarcascades).  We have downloaded one of these detectors and stored it in the `haarcascades` directory.\n",
    "\n",
    "In the next code cell, we demonstrate how to use this detector to find human faces in a sample image."
   ]
  },
  {
   "cell_type": "code",
   "execution_count": 3,
   "metadata": {},
   "outputs": [
    {
     "name": "stdout",
     "output_type": "stream",
     "text": [
      "Number of faces detected: 1\n"
     ]
    },
    {
     "data": {
      "image/png": "[encoded data removed]",
      "text/plain": [
       "<matplotlib.figure.Figure at 0x7fc8405b2b00>"
      ]
     },
     "metadata": {},
     "output_type": "display_data"
    }
   ],
   "source": [
    "import cv2                \n",
    "import matplotlib.pyplot as plt                        \n",
    "%matplotlib inline                               \n",
    "\n",
    "# extract pre-trained face detector\n",
    "face_cascade = cv2.CascadeClassifier('haarcascades/haarcascade_frontalface_alt.xml')\n",
    "\n",
    "# load color (BGR) image\n",
    "img = cv2.imread(human_files[400])\n",
    "# convert BGR image to grayscale\n",
    "gray = cv2.cvtColor(img, cv2.COLOR_BGR2GRAY)\n",
    "\n",
    "# find faces in image\n",
    "faces = face_cascade.detectMultiScale(gray)\n",
    "\n",
    "# print number of faces detected in the image\n",
    "print('Number of faces detected:', len(faces))\n",
    "\n",
    "# get bounding box for each detected face\n",
    "for (x,y,w,h) in faces:\n",
    "    # add bounding box to color image\n",
    "    cv2.rectangle(img,(x,y),(x+w,y+h),(255,0,0),2)\n",
    "    \n",
    "# convert BGR image to RGB for plotting\n",
    "cv_rgb = cv2.cvtColor(img, cv2.COLOR_BGR2RGB)\n",
    "\n",
    "# display the image, along with bounding box\n",
    "plt.imshow(cv_rgb)\n",
    "plt.show()"
   ]
  },
  {
   "cell_type": "markdown",
   "metadata": {},
   "source": [
    "Before using any of the face detectors, it is standard procedure to convert the images to grayscale.  The `detectMultiScale` function executes the classifier stored in `face_cascade` and takes the grayscale image as a parameter.  \n",
    "\n",
    "In the above code, `faces` is a numpy array of detected faces, where each row corresponds to a detected face.  Each detected face is a 1D array with four entries that specifies the bounding box of the detected face.  The first two entries in the array (extracted in the above code as `x` and `y`) specify the horizontal and vertical positions of the top left corner of the bounding box.  The last two entries in the array (extracted here as `w` and `h`) specify the width and height of the box.\n",
    "\n",
    "### Write a Human Face Detector\n",
    "\n",
    "We can use this procedure to write a function that returns `True` if a human face is detected in an image and `False` otherwise.  This function, aptly named `face_detector`, takes a string-valued file path to an image as input and appears in the code block below."
   ]
  },
  {
   "cell_type": "code",
   "execution_count": 4,
   "metadata": {
    "collapsed": true
   },
   "outputs": [],
   "source": [
    "# returns \"True\" if face is detected in image stored at img_path\n",
    "def face_detector(img_path):\n",
    "    img = cv2.imread(img_path)\n",
    "    gray = cv2.cvtColor(img, cv2.COLOR_BGR2GRAY)\n",
    "    faces = face_cascade.detectMultiScale(gray)\n",
    "    return len(faces) > 0"
   ]
  },
  {
   "cell_type": "markdown",
   "metadata": {},
   "source": [
    "### (IMPLEMENTATION) Assess the Human Face Detector\n",
    "\n",
    "__Question 1:__ Use the code cell below to test the performance of the `face_detector` function.  \n",
    "- What percentage of the first 100 images in `human_files` have a detected human face?  \n",
    "- What percentage of the first 100 images in `dog_files` have a detected human face? \n",
    "\n",
    "Ideally, we would like 100% of human images with a detected face and 0% of dog images with a detected face.  You will see that our algorithm falls short of this goal, but still gives acceptable performance.  We extract the file paths for the first 100 images from each of the datasets and store them in the numpy arrays `human_files_short` and `dog_files_short`.\n",
    "\n",
    "__Answer:__ \n",
    "\n",
    "The `face_detector` function detect in the first 100 images of \n",
    "- the `human_files` 99% (or 99 faces) faces and\n",
    "- the `dog_files` 11% faces\n",
    "    "
   ]
  },
  {
   "cell_type": "code",
   "execution_count": 5,
   "metadata": {},
   "outputs": [
    {
     "name": "stdout",
     "output_type": "stream",
     "text": [
      "Number and percentage of detected faces in first 100 images from human_files: 99\n",
      "Number and percentage of detected faces in first 100 images from dog_files: 11\n"
     ]
    }
   ],
   "source": [
    "human_files_short = human_files[:100]\n",
    "dog_files_short = train_files[:100]\n",
    "# Do NOT modify the code above this line.\n",
    "\n",
    "# human_files_short\n",
    "count = 0\n",
    "for file in human_files_short:\n",
    "    count += face_detector(file)\n",
    "\n",
    "print(\"Number and percentage of detected faces in first 100 images from human_files: %s\" % count)\n",
    "\n",
    "# dog_files_short\n",
    "count = 0\n",
    "for file in dog_files_short:\n",
    "    count += face_detector(file)\n",
    "\n",
    "print(\"Number and percentage of detected faces in first 100 images from dog_files: %s\" % count)"
   ]
  },
  {
   "cell_type": "markdown",
   "metadata": {},
   "source": [
    "__Question 2:__ This algorithmic choice necessitates that we communicate to the user that we accept human images only when they provide a clear view of a face (otherwise, we risk having unneccessarily frustrated users!). In your opinion, is this a reasonable expectation to pose on the user? If not, can you think of a way to detect humans in images that does not necessitate an image with a clearly presented face?\n",
    "\n",
    "__Answer:__\n",
    "\n",
    "We suggest the face detector from OpenCV as a potential way to detect human images in your algorithm, but you are free to explore other approaches, especially approaches that make use of deep learning :).  Please use the code cell below to design and test your own face detection algorithm.  If you decide to pursue this _optional_ task, report performance on each of the datasets."
   ]
  },
  {
   "cell_type": "code",
   "execution_count": 6,
   "metadata": {
    "collapsed": true
   },
   "outputs": [],
   "source": [
    "## (Optional) TODO: Report the performance of another  \n",
    "## face detection algorithm on the LFW dataset\n",
    "### Feel free to use as many code cells as needed."
   ]
  },
  {
   "cell_type": "markdown",
   "metadata": {},
   "source": [
    "---\n",
    "<a id='step2'></a>\n",
    "## Step 2: Detect Dogs\n",
    "\n",
    "In this section, we use a pre-trained [ResNet-50](http://ethereon.github.io/netscope/#/gist/db945b393d40bfa26006) model to detect dogs in images.  Our first line of code downloads the ResNet-50 model, along with weights that have been trained on [ImageNet](http://www.image-net.org/), a very large, very popular dataset used for image classification and other vision tasks.  ImageNet contains over 10 million URLs, each linking to an image containing an object from one of [1000 categories](https://gist.github.com/yrevar/942d3a0ac09ec9e5eb3a).  Given an image, this pre-trained ResNet-50 model returns a prediction (derived from the available categories in ImageNet) for the object that is contained in the image."
   ]
  },
  {
   "cell_type": "code",
   "execution_count": 7,
   "metadata": {
    "collapsed": true
   },
   "outputs": [],
   "source": [
    "from keras.applications.resnet50 import ResNet50\n",
    "\n",
    "# define ResNet50 model\n",
    "ResNet50_model = ResNet50(weights='imagenet')"
   ]
  },
  {
   "cell_type": "markdown",
   "metadata": {},
   "source": [
    "### Pre-process the Data\n",
    "\n",
    "When using TensorFlow as backend, Keras CNNs require a 4D array (which we'll also refer to as a 4D tensor) as input, with shape\n",
    "\n",
    "$$\n",
    "(\\text{nb_samples}, \\text{rows}, \\text{columns}, \\text{channels}),\n",
    "$$\n",
    "\n",
    "where `nb_samples` corresponds to the total number of images (or samples), and `rows`, `columns`, and `channels` correspond to the number of rows, columns, and channels for each image, respectively.  \n",
    "\n",
    "The `path_to_tensor` function below takes a string-valued file path to a color image as input and returns a 4D tensor suitable for supplying to a Keras CNN.  The function first loads the image and resizes it to a square image that is $224 \\times 224$ pixels.  Next, the image is converted to an array, which is then resized to a 4D tensor.  In this case, since we are working with color images, each image has three channels.  Likewise, since we are processing a single image (or sample), the returned tensor will always have shape\n",
    "\n",
    "$$\n",
    "(1, 224, 224, 3).\n",
    "$$\n",
    "\n",
    "The `paths_to_tensor` function takes a numpy array of string-valued image paths as input and returns a 4D tensor with shape \n",
    "\n",
    "$$\n",
    "(\\text{nb_samples}, 224, 224, 3).\n",
    "$$\n",
    "\n",
    "Here, `nb_samples` is the number of samples, or number of images, in the supplied array of image paths.  It is best to think of `nb_samples` as the number of 3D tensors (where each 3D tensor corresponds to a different image) in your dataset!"
   ]
  },
  {
   "cell_type": "code",
   "execution_count": 8,
   "metadata": {
    "collapsed": true
   },
   "outputs": [],
   "source": [
    "from keras.preprocessing import image                  \n",
    "from tqdm import tqdm\n",
    "\n",
    "def path_to_tensor(img_path):\n",
    "    # loads RGB image as PIL.Image.Image type\n",
    "    img = image.load_img(img_path, target_size=(224, 224))\n",
    "    # convert PIL.Image.Image type to 3D tensor with shape (224, 224, 3)\n",
    "    x = image.img_to_array(img)\n",
    "    # convert 3D tensor to 4D tensor with shape (1, 224, 224, 3) and return 4D tensor\n",
    "    return np.expand_dims(x, axis=0)\n",
    "\n",
    "def paths_to_tensor(img_paths):\n",
    "    list_of_tensors = [path_to_tensor(img_path) for img_path in tqdm(img_paths)]\n",
    "    return np.vstack(list_of_tensors)"
   ]
  },
  {
   "cell_type": "markdown",
   "metadata": {},
   "source": [
    "### Making Predictions with ResNet-50\n",
    "\n",
    "Getting the 4D tensor ready for ResNet-50, and for any other pre-trained model in Keras, requires some additional processing.  First, the RGB image is converted to BGR by reordering the channels.  All pre-trained models have the additional normalization step that the mean pixel (expressed in RGB as $[103.939, 116.779, 123.68]$ and calculated from all pixels in all images in ImageNet) must be subtracted from every pixel in each image.  This is implemented in the imported function `preprocess_input`.  If you're curious, you can check the code for `preprocess_input` [here](https://github.com/fchollet/keras/blob/master/keras/applications/imagenet_utils.py).\n",
    "\n",
    "Now that we have a way to format our image for supplying to ResNet-50, we are now ready to use the model to extract the predictions.  This is accomplished with the `predict` method, which returns an array whose $i$-th entry is the model's predicted probability that the image belongs to the $i$-th ImageNet category.  This is implemented in the `ResNet50_predict_labels` function below.\n",
    "\n",
    "By taking the argmax of the predicted probability vector, we obtain an integer corresponding to the model's predicted object class, which we can identify with an object category through the use of this [dictionary](https://gist.github.com/yrevar/942d3a0ac09ec9e5eb3a). "
   ]
  },
  {
   "cell_type": "code",
   "execution_count": 9,
   "metadata": {
    "collapsed": true
   },
   "outputs": [],
   "source": [
    "from keras.applications.resnet50 import preprocess_input, decode_predictions\n",
    "\n",
    "def ResNet50_predict_labels(img_path):\n",
    "    # returns prediction vector for image located at img_path\n",
    "    img = preprocess_input(path_to_tensor(img_path))\n",
    "    return np.argmax(ResNet50_model.predict(img))"
   ]
  },
  {
   "cell_type": "markdown",
   "metadata": {},
   "source": [
    "### Write a Dog Detector\n",
    "\n",
    "While looking at the [dictionary](https://gist.github.com/yrevar/942d3a0ac09ec9e5eb3a), you will notice that the categories corresponding to dogs appear in an uninterrupted sequence and correspond to dictionary keys 151-268, inclusive, to include all categories from `'Chihuahua'` to `'Mexican hairless'`.  Thus, in order to check to see if an image is predicted to contain a dog by the pre-trained ResNet-50 model, we need only check if the `ResNet50_predict_labels` function above returns a value between 151 and 268 (inclusive).\n",
    "\n",
    "We use these ideas to complete the `dog_detector` function below, which returns `True` if a dog is detected in an image (and `False` if not)."
   ]
  },
  {
   "cell_type": "code",
   "execution_count": 10,
   "metadata": {
    "collapsed": true
   },
   "outputs": [],
   "source": [
    "### returns \"True\" if a dog is detected in the image stored at img_path\n",
    "def dog_detector(img_path):\n",
    "    prediction = ResNet50_predict_labels(img_path)\n",
    "    return ((prediction <= 268) & (prediction >= 151)) "
   ]
  },
  {
   "cell_type": "markdown",
   "metadata": {},
   "source": [
    "### (IMPLEMENTATION) Assess the Dog Detector\n",
    "\n",
    "__Question 3:__ Use the code cell below to test the performance of your `dog_detector` function.  \n",
    "- What percentage of the images in `human_files_short` have a detected dog?  \n",
    "- What percentage of the images in `dog_files_short` have a detected dog?\n",
    "\n",
    "__Answer:__ \n",
    "\n",
    "In `human_files_short` the `deg_detection` destects 0% dogs. In the `dog_files_short` we have a 100% accuracy."
   ]
  },
  {
   "cell_type": "code",
   "execution_count": 11,
   "metadata": {},
   "outputs": [
    {
     "name": "stdout",
     "output_type": "stream",
     "text": [
      "Number and percentage of detected faces in first 100 images from human_files: 0\n",
      "Number and percentage of detected faces in first 100 images from dog_files: 100\n"
     ]
    }
   ],
   "source": [
    "# human_files_short\n",
    "count = 0\n",
    "for file in human_files_short:\n",
    "    count += dog_detector(file)\n",
    "\n",
    "print(\"Number and percentage of detected faces in first 100 images from human_files: %s\" % count)\n",
    "\n",
    "# dog_files\n",
    "count = 0\n",
    "for file in dog_files_short:\n",
    "    count += dog_detector(file)\n",
    "\n",
    "print(\"Number and percentage of detected faces in first 100 images from dog_files: %s\" % count)"
   ]
  },
  {
   "cell_type": "markdown",
   "metadata": {},
   "source": [
    "---\n",
    "<a id='step3'></a>\n",
    "## Step 3: Create a CNN to Classify Dog Breeds (from Scratch)\n",
    "\n",
    "Now that we have functions for detecting humans and dogs in images, we need a way to predict breed from images.  In this step, you will create a CNN that classifies dog breeds.  You must create your CNN _from scratch_ (so, you can't use transfer learning _yet_!), and you must attain a test accuracy of at least 1%.  In Step 5 of this notebook, you will have the opportunity to use transfer learning to create a CNN that attains greatly improved accuracy.\n",
    "\n",
    "Be careful with adding too many trainable layers!  More parameters means longer training, which means you are more likely to need a GPU to accelerate the training process.  Thankfully, Keras provides a handy estimate of the time that each epoch is likely to take; you can extrapolate this estimate to figure out how long it will take for your algorithm to train. \n",
    "\n",
    "We mention that the task of assigning breed to dogs from images is considered exceptionally challenging.  To see why, consider that *even a human* would have great difficulty in distinguishing between a Brittany and a Welsh Springer Spaniel.  \n",
    "\n",
    "Brittany | Welsh Springer Spaniel\n",
    "- | - \n",
    "<img src=\"images/Brittany_02625.jpg\" width=\"100\"> | <img src=\"images/Welsh_springer_spaniel_08203.jpg\" width=\"200\">\n",
    "\n",
    "It is not difficult to find other dog breed pairs with minimal inter-class variation (for instance, Curly-Coated Retrievers and American Water Spaniels).  \n",
    "\n",
    "Curly-Coated Retriever | American Water Spaniel\n",
    "- | -\n",
    "<img src=\"images/Curly-coated_retriever_03896.jpg\" width=\"200\"> | <img src=\"images/American_water_spaniel_00648.jpg\" width=\"200\">\n",
    "\n",
    "\n",
    "Likewise, recall that labradors come in yellow, chocolate, and black.  Your vision-based algorithm will have to conquer this high intra-class variation to determine how to classify all of these different shades as the same breed.  \n",
    "\n",
    "Yellow Labrador | Chocolate Labrador | Black Labrador\n",
    "- | -\n",
    "<img src=\"images/Labrador_retriever_06457.jpg\" width=\"150\"> | <img src=\"images/Labrador_retriever_06455.jpg\" width=\"240\"> | <img src=\"images/Labrador_retriever_06449.jpg\" width=\"220\">\n",
    "\n",
    "We also mention that random chance presents an exceptionally low bar: setting aside the fact that the classes are slightly imabalanced, a random guess will provide a correct answer roughly 1 in 133 times, which corresponds to an accuracy of less than 1%.  \n",
    "\n",
    "Remember that the practice is far ahead of the theory in deep learning.  Experiment with many different architectures, and trust your intuition.  And, of course, have fun! \n",
    "\n",
    "### Pre-process the Data\n",
    "\n",
    "We rescale the images by dividing every pixel in every image by 255."
   ]
  },
  {
   "cell_type": "code",
   "execution_count": 12,
   "metadata": {},
   "outputs": [
    {
     "name": "stderr",
     "output_type": "stream",
     "text": [
      "100%|██████████| 6680/6680 [00:55<00:00, 121.26it/s]\n",
      "100%|██████████| 835/835 [00:06<00:00, 156.34it/s]\n",
      "100%|██████████| 836/836 [00:06<00:00, 135.91it/s]\n"
     ]
    }
   ],
   "source": [
    "from PIL import ImageFile                            \n",
    "ImageFile.LOAD_TRUNCATED_IMAGES = True                 \n",
    "\n",
    "# pre-process the data for Keras\n",
    "train_tensors = paths_to_tensor(train_files).astype('float32')/255\n",
    "valid_tensors = paths_to_tensor(valid_files).astype('float32')/255\n",
    "test_tensors = paths_to_tensor(test_files).astype('float32')/255"
   ]
  },
  {
   "cell_type": "markdown",
   "metadata": {},
   "source": [
    "### (IMPLEMENTATION) Model Architecture\n",
    "\n",
    "Create a CNN to classify dog breed.  At the end of your code cell block, summarize the layers of your model by executing the line:\n",
    "    \n",
    "        model.summary()\n",
    "\n",
    "We have imported some Python modules to get you started, but feel free to import as many modules as you need.  If you end up getting stuck, here's a hint that specifies a model that trains relatively fast on CPU and attains >1% test accuracy in 5 epochs:\n",
    "\n",
    "![Sample CNN](images/sample_cnn.png)\n",
    "           \n",
    "__Question 4:__ Outline the steps you took to get to your final CNN architecture and your reasoning at each step.  If you chose to use the hinted architecture above, describe why you think that CNN architecture should work well for the image classification task.\n",
    "\n",
    "__Answer:__ I tried several model architectures, based on the given above but also architectures from Kaggle.\n",
    "\n",
    "While examining different architectures I observed in many models that I get relativley fast a high accuracy, but validation accuracy was still low. Therefore, I introduced dropout layers, partly with no success. It is not fully clear what is happening there (It is overfitting, but dropout does not help). The model architecture in the next code block delivered best results (also in view on overfitting). Finally, I nerver got a better accuracy than 12%. Augmentation did not improve the result (Maybe I did something wrong).\n",
    "\n",
    "I fitted the model architecure one time without and one time with augmentation. In augmentation I tried to use as many reasonable transformations as possible. "
   ]
  },
  {
   "cell_type": "code",
   "execution_count": 37,
   "metadata": {},
   "outputs": [
    {
     "name": "stdout",
     "output_type": "stream",
     "text": [
      "_________________________________________________________________\n",
      "Layer (type)                 Output Shape              Param #   \n",
      "=================================================================\n",
      "conv2d_13 (Conv2D)           (None, 224, 224, 16)      448       \n",
      "_________________________________________________________________\n",
      "activation_74 (Activation)   (None, 224, 224, 16)      0         \n",
      "_________________________________________________________________\n",
      "max_pooling2d_8 (MaxPooling2 (None, 112, 112, 16)      0         \n",
      "_________________________________________________________________\n",
      "conv2d_14 (Conv2D)           (None, 110, 110, 32)      4640      \n",
      "_________________________________________________________________\n",
      "activation_75 (Activation)   (None, 110, 110, 32)      0         \n",
      "_________________________________________________________________\n",
      "max_pooling2d_9 (MaxPooling2 (None, 55, 55, 32)        0         \n",
      "_________________________________________________________________\n",
      "dropout_11 (Dropout)         (None, 55, 55, 32)        0         \n",
      "_________________________________________________________________\n",
      "conv2d_15 (Conv2D)           (None, 55, 55, 64)        18496     \n",
      "_________________________________________________________________\n",
      "activation_76 (Activation)   (None, 55, 55, 64)        0         \n",
      "_________________________________________________________________\n",
      "max_pooling2d_10 (MaxPooling (None, 27, 27, 64)        0         \n",
      "_________________________________________________________________\n",
      "conv2d_16 (Conv2D)           (None, 25, 25, 64)        36928     \n",
      "_________________________________________________________________\n",
      "activation_77 (Activation)   (None, 25, 25, 64)        0         \n",
      "_________________________________________________________________\n",
      "max_pooling2d_11 (MaxPooling (None, 12, 12, 64)        0         \n",
      "_________________________________________________________________\n",
      "dropout_12 (Dropout)         (None, 12, 12, 64)        0         \n",
      "_________________________________________________________________\n",
      "flatten_8 (Flatten)          (None, 9216)              0         \n",
      "_________________________________________________________________\n",
      "dense_13 (Dense)             (None, 64)                589888    \n",
      "_________________________________________________________________\n",
      "activation_78 (Activation)   (None, 64)                0         \n",
      "_________________________________________________________________\n",
      "dropout_13 (Dropout)         (None, 64)                0         \n",
      "_________________________________________________________________\n",
      "dense_14 (Dense)             (None, 133)               8645      \n",
      "_________________________________________________________________\n",
      "activation_79 (Activation)   (None, 133)               0         \n",
      "=================================================================\n",
      "Total params: 659,045.0\n",
      "Trainable params: 659,045.0\n",
      "Non-trainable params: 0.0\n",
      "_________________________________________________________________\n"
     ]
    }
   ],
   "source": [
    "from keras.preprocessing.image import ImageDataGenerator\n",
    "\n",
    "from keras.layers import Conv2D, MaxPooling2D, GlobalAveragePooling2D\n",
    "from keras.layers import Dropout, Flatten, Dense, Activation\n",
    "from keras.models import Sequential\n",
    "\n",
    "num_classes = len(train_targets[0])\n",
    "\n",
    "model = Sequential()\n",
    "model.add(Conv2D(16, (3, 3), padding='same',\n",
    "                 input_shape=train_tensors.shape[1:]))\n",
    "model.add(Activation('relu'))\n",
    "model.add(MaxPooling2D(pool_size=(2, 2)))\n",
    "model.add(Conv2D(32, (3, 3)))\n",
    "model.add(Activation('relu'))\n",
    "model.add(MaxPooling2D(pool_size=(2, 2)))\n",
    "model.add(Dropout(0.25))\n",
    "\n",
    "model.add(Conv2D(64, (3, 3), padding='same'))\n",
    "model.add(Activation('relu'))\n",
    "model.add(MaxPooling2D(pool_size=(2, 2)))\n",
    "model.add(Conv2D(64, (3, 3)))\n",
    "model.add(Activation('relu'))\n",
    "model.add(MaxPooling2D(pool_size=(2, 2)))\n",
    "model.add(Dropout(0.25))\n",
    "\n",
    "model.add(Flatten())\n",
    "model.add(Dense(64))\n",
    "model.add(Activation('relu'))\n",
    "model.add(Dropout(0.5))\n",
    "model.add(Dense(num_classes))\n",
    "model.add(Activation('softmax'))\n",
    "\n",
    "model.summary()"
   ]
  },
  {
   "cell_type": "markdown",
   "metadata": {},
   "source": [
    "### Compile the Model"
   ]
  },
  {
   "cell_type": "code",
   "execution_count": 38,
   "metadata": {},
   "outputs": [],
   "source": [
    "model.compile(optimizer='rmsprop', loss='categorical_crossentropy', metrics=['accuracy'])"
   ]
  },
  {
   "cell_type": "markdown",
   "metadata": {},
   "source": [
    "### (IMPLEMENTATION) Train the Model -- Done\n",
    "\n",
    "Train your model in the code cell below.  Use model checkpointing to save the model that attains the best validation loss.\n",
    "\n",
    "You are welcome to [augment the training data](https://blog.keras.io/building-powerful-image-classification-models-using-very-little-data.html), but this is not a requirement. "
   ]
  },
  {
   "cell_type": "code",
   "execution_count": 39,
   "metadata": {},
   "outputs": [
    {
     "name": "stdout",
     "output_type": "stream",
     "text": [
      "Train on 6680 samples, validate on 835 samples\n",
      "Epoch 1/20\n",
      "6660/6680 [============================>.] - ETA: 0s - loss: 4.8908 - acc: 0.0104Epoch 00000: val_loss improved from inf to 4.88248, saving model to saved_models/weights.best.from_scratch.hdf5\n",
      "6680/6680 [==============================] - 28s - loss: 4.8909 - acc: 0.0103 - val_loss: 4.8825 - val_acc: 0.0132\n",
      "Epoch 2/20\n",
      "6660/6680 [============================>.] - ETA: 0s - loss: 4.8804 - acc: 0.0104Epoch 00001: val_loss improved from 4.88248 to 4.87395, saving model to saved_models/weights.best.from_scratch.hdf5\n",
      "6680/6680 [==============================] - 27s - loss: 4.8805 - acc: 0.0103 - val_loss: 4.8739 - val_acc: 0.0108\n",
      "Epoch 3/20\n",
      "6660/6680 [============================>.] - ETA: 0s - loss: 4.8648 - acc: 0.0125Epoch 00002: val_loss improved from 4.87395 to 4.81392, saving model to saved_models/weights.best.from_scratch.hdf5\n",
      "6680/6680 [==============================] - 27s - loss: 4.8650 - acc: 0.0124 - val_loss: 4.8139 - val_acc: 0.0263\n",
      "Epoch 4/20\n",
      "6660/6680 [============================>.] - ETA: 0s - loss: 4.7492 - acc: 0.0219Epoch 00003: val_loss improved from 4.81392 to 4.64034, saving model to saved_models/weights.best.from_scratch.hdf5\n",
      "6680/6680 [==============================] - 27s - loss: 4.7498 - acc: 0.0219 - val_loss: 4.6403 - val_acc: 0.0467\n",
      "Epoch 5/20\n",
      "6660/6680 [============================>.] - ETA: 0s - loss: 4.6060 - acc: 0.0308Epoch 00004: val_loss improved from 4.64034 to 4.50064, saving model to saved_models/weights.best.from_scratch.hdf5\n",
      "6680/6680 [==============================] - 27s - loss: 4.6065 - acc: 0.0307 - val_loss: 4.5006 - val_acc: 0.0383\n",
      "Epoch 6/20\n",
      "6660/6680 [============================>.] - ETA: 0s - loss: 4.4767 - acc: 0.0366Epoch 00005: val_loss improved from 4.50064 to 4.36628, saving model to saved_models/weights.best.from_scratch.hdf5\n",
      "6680/6680 [==============================] - 27s - loss: 4.4759 - acc: 0.0365 - val_loss: 4.3663 - val_acc: 0.0491\n",
      "Epoch 7/20\n",
      "6660/6680 [============================>.] - ETA: 0s - loss: 4.3806 - acc: 0.0458Epoch 00006: val_loss improved from 4.36628 to 4.29772, saving model to saved_models/weights.best.from_scratch.hdf5\n",
      "6680/6680 [==============================] - 27s - loss: 4.3805 - acc: 0.0458 - val_loss: 4.2977 - val_acc: 0.0671\n",
      "Epoch 8/20\n",
      "6660/6680 [============================>.] - ETA: 0s - loss: 4.2896 - acc: 0.0509Epoch 00007: val_loss improved from 4.29772 to 4.20374, saving model to saved_models/weights.best.from_scratch.hdf5\n",
      "6680/6680 [==============================] - 27s - loss: 4.2895 - acc: 0.0510 - val_loss: 4.2037 - val_acc: 0.0683\n",
      "Epoch 9/20\n",
      "6660/6680 [============================>.] - ETA: 0s - loss: 4.2147 - acc: 0.0602Epoch 00008: val_loss improved from 4.20374 to 4.17281, saving model to saved_models/weights.best.from_scratch.hdf5\n",
      "6680/6680 [==============================] - 27s - loss: 4.2152 - acc: 0.0602 - val_loss: 4.1728 - val_acc: 0.0754\n",
      "Epoch 10/20\n",
      "6660/6680 [============================>.] - ETA: 0s - loss: 4.1363 - acc: 0.0692Epoch 00009: val_loss improved from 4.17281 to 4.10542, saving model to saved_models/weights.best.from_scratch.hdf5\n",
      "6680/6680 [==============================] - 27s - loss: 4.1380 - acc: 0.0692 - val_loss: 4.1054 - val_acc: 0.0695\n",
      "Epoch 11/20\n",
      "6660/6680 [============================>.] - ETA: 0s - loss: 4.0898 - acc: 0.0698Epoch 00010: val_loss improved from 4.10542 to 4.07608, saving model to saved_models/weights.best.from_scratch.hdf5\n",
      "6680/6680 [==============================] - 27s - loss: 4.0906 - acc: 0.0696 - val_loss: 4.0761 - val_acc: 0.0790\n",
      "Epoch 12/20\n",
      "6660/6680 [============================>.] - ETA: 0s - loss: 4.0171 - acc: 0.0791Epoch 00011: val_loss improved from 4.07608 to 4.04723, saving model to saved_models/weights.best.from_scratch.hdf5\n",
      "6680/6680 [==============================] - 27s - loss: 4.0176 - acc: 0.0792 - val_loss: 4.0472 - val_acc: 0.0874\n",
      "Epoch 13/20\n",
      "6660/6680 [============================>.] - ETA: 0s - loss: 3.9644 - acc: 0.0910Epoch 00012: val_loss improved from 4.04723 to 4.01502, saving model to saved_models/weights.best.from_scratch.hdf5\n",
      "6680/6680 [==============================] - 27s - loss: 3.9644 - acc: 0.0912 - val_loss: 4.0150 - val_acc: 0.0958\n",
      "Epoch 14/20\n",
      "6660/6680 [============================>.] - ETA: 0s - loss: 3.9196 - acc: 0.0928Epoch 00013: val_loss did not improve\n",
      "6680/6680 [==============================] - 27s - loss: 3.9193 - acc: 0.0925 - val_loss: 4.0482 - val_acc: 0.0814\n",
      "Epoch 15/20\n",
      "6660/6680 [============================>.] - ETA: 0s - loss: 3.8590 - acc: 0.0983Epoch 00014: val_loss did not improve\n",
      "6680/6680 [==============================] - 27s - loss: 3.8586 - acc: 0.0984 - val_loss: 4.0249 - val_acc: 0.0910\n",
      "Epoch 16/20\n",
      "6660/6680 [============================>.] - ETA: 0s - loss: 3.8248 - acc: 0.1077Epoch 00015: val_loss improved from 4.01502 to 3.93944, saving model to saved_models/weights.best.from_scratch.hdf5\n",
      "6680/6680 [==============================] - 27s - loss: 3.8244 - acc: 0.1076 - val_loss: 3.9394 - val_acc: 0.0994\n",
      "Epoch 17/20\n",
      "6660/6680 [============================>.] - ETA: 0s - loss: 3.7738 - acc: 0.1084Epoch 00016: val_loss did not improve\n",
      "6680/6680 [==============================] - 27s - loss: 3.7740 - acc: 0.1082 - val_loss: 3.9402 - val_acc: 0.0982\n",
      "Epoch 18/20\n",
      "6660/6680 [============================>.] - ETA: 0s - loss: 3.7237 - acc: 0.1140Epoch 00017: val_loss improved from 3.93944 to 3.88090, saving model to saved_models/weights.best.from_scratch.hdf5\n",
      "6680/6680 [==============================] - 27s - loss: 3.7240 - acc: 0.1139 - val_loss: 3.8809 - val_acc: 0.1234\n",
      "Epoch 19/20\n",
      "6660/6680 [============================>.] - ETA: 0s - loss: 3.6590 - acc: 0.1287Epoch 00018: val_loss improved from 3.88090 to 3.86663, saving model to saved_models/weights.best.from_scratch.hdf5\n",
      "6680/6680 [==============================] - 27s - loss: 3.6597 - acc: 0.1286 - val_loss: 3.8666 - val_acc: 0.1281\n",
      "Epoch 20/20\n",
      "6660/6680 [============================>.] - ETA: 0s - loss: 3.6237 - acc: 0.1335Epoch 00019: val_loss did not improve\n",
      "6680/6680 [==============================] - 27s - loss: 3.6230 - acc: 0.1335 - val_loss: 3.9637 - val_acc: 0.1042\n"
     ]
    },
    {
     "data": {
      "text/plain": [
       "<keras.callbacks.History at 0x7fc7706e3978>"
      ]
     },
     "execution_count": 39,
     "metadata": {},
     "output_type": "execute_result"
    }
   ],
   "source": [
    "from keras.callbacks import ModelCheckpoint  \n",
    "\n",
    "epochs = 20\n",
    "\n",
    "### Do NOT modify the code below this line.\n",
    "\n",
    "checkpointer = ModelCheckpoint(filepath='saved_models/weights.best.from_scratch.hdf5', \n",
    "                               verbose=1, save_best_only=True)\n",
    "\n",
    "model.fit(train_tensors, train_targets, \n",
    "          validation_data=(valid_tensors, valid_targets),\n",
    "          epochs=epochs, batch_size=20, callbacks=[checkpointer], verbose=1)"
   ]
  },
  {
   "cell_type": "markdown",
   "metadata": {},
   "source": [
    "### Load the Model with the Best Validation Loss"
   ]
  },
  {
   "cell_type": "code",
   "execution_count": 40,
   "metadata": {
    "collapsed": true
   },
   "outputs": [],
   "source": [
    "model.load_weights('saved_models/weights.best.from_scratch.hdf5')"
   ]
  },
  {
   "cell_type": "markdown",
   "metadata": {},
   "source": [
    "### Test the Model\n",
    "\n",
    "Try out your model on the test dataset of dog images.  Ensure that your test accuracy is greater than 1%."
   ]
  },
  {
   "cell_type": "code",
   "execution_count": 41,
   "metadata": {
    "scrolled": true
   },
   "outputs": [
    {
     "name": "stdout",
     "output_type": "stream",
     "text": [
      "Test accuracy: 11.4833%\n"
     ]
    }
   ],
   "source": [
    "# get index of predicted dog breed for each image in test set\n",
    "dog_breed_predictions = [np.argmax(model.predict(np.expand_dims(tensor, axis=0))) for tensor in test_tensors]\n",
    "\n",
    "# report test accuracy\n",
    "test_accuracy = 100*np.sum(np.array(dog_breed_predictions)==np.argmax(test_targets, axis=1))/len(dog_breed_predictions)\n",
    "print('Test accuracy: %.4f%%' % test_accuracy)"
   ]
  },
  {
   "cell_type": "markdown",
   "metadata": {},
   "source": [
    "### Augmentation\n"
   ]
  },
  {
   "cell_type": "code",
   "execution_count": 49,
   "metadata": {},
   "outputs": [
    {
     "name": "stdout",
     "output_type": "stream",
     "text": [
      "Epoch 1/20\n",
      "667/668 [============================>.] - ETA: 0s - loss: 4.2132 - acc: 0.0678Epoch 00000: val_loss improved from inf to 4.06107, saving model to saved_models/weights.best.from_scratch_augmentation.hdf5\n",
      "668/668 [==============================] - 111s - loss: 4.2137 - acc: 0.0677 - val_loss: 4.0611 - val_acc: 0.0722\n",
      "Epoch 2/20\n",
      "667/668 [============================>.] - ETA: 0s - loss: 4.2405 - acc: 0.0651Epoch 00001: val_loss improved from 4.06107 to 3.97980, saving model to saved_models/weights.best.from_scratch_augmentation.hdf5\n",
      "668/668 [==============================] - 110s - loss: 4.2404 - acc: 0.0652 - val_loss: 3.9798 - val_acc: 0.0902\n",
      "Epoch 3/20\n",
      "667/668 [============================>.] - ETA: 0s - loss: 4.2228 - acc: 0.0642Epoch 00002: val_loss did not improve\n",
      "668/668 [==============================] - 109s - loss: 4.2230 - acc: 0.0641 - val_loss: 4.0370 - val_acc: 0.0859\n",
      "Epoch 4/20\n",
      "667/668 [============================>.] - ETA: 0s - loss: 4.2490 - acc: 0.0640Epoch 00003: val_loss did not improve\n",
      "668/668 [==============================] - 109s - loss: 4.2485 - acc: 0.0640 - val_loss: 4.0221 - val_acc: 0.0798\n",
      "Epoch 5/20\n",
      "667/668 [============================>.] - ETA: 0s - loss: 4.2737 - acc: 0.0639Epoch 00004: val_loss did not improve\n",
      "668/668 [==============================] - 109s - loss: 4.2731 - acc: 0.0640 - val_loss: 4.0598 - val_acc: 0.0822\n",
      "Epoch 6/20\n",
      "667/668 [============================>.] - ETA: 0s - loss: 4.2760 - acc: 0.0626Epoch 00005: val_loss did not improve\n",
      "668/668 [==============================] - 109s - loss: 4.2755 - acc: 0.0626 - val_loss: 4.0489 - val_acc: 0.0755\n",
      "Epoch 7/20\n",
      "667/668 [============================>.] - ETA: 0s - loss: 4.2945 - acc: 0.0603Epoch 00006: val_loss did not improve\n",
      "668/668 [==============================] - 110s - loss: 4.2942 - acc: 0.0603 - val_loss: 4.1611 - val_acc: 0.0755\n",
      "Epoch 8/20\n",
      "667/668 [============================>.] - ETA: 0s - loss: 4.2928 - acc: 0.0602Epoch 00007: val_loss did not improve\n",
      "668/668 [==============================] - 110s - loss: 4.2930 - acc: 0.0601 - val_loss: 4.1427 - val_acc: 0.0834\n",
      "Epoch 9/20\n",
      "667/668 [============================>.] - ETA: 0s - loss: 4.2867 - acc: 0.0613Epoch 00008: val_loss did not improve\n",
      "668/668 [==============================] - 109s - loss: 4.2865 - acc: 0.0614 - val_loss: 4.0400 - val_acc: 0.0742\n",
      "Epoch 10/20\n",
      "667/668 [============================>.] - ETA: 0s - loss: 4.3069 - acc: 0.0587Epoch 00009: val_loss did not improve\n",
      "668/668 [==============================] - 109s - loss: 4.3068 - acc: 0.0587 - val_loss: 4.0764 - val_acc: 0.0853\n",
      "Epoch 11/20\n",
      "667/668 [============================>.] - ETA: 0s - loss: 4.3443 - acc: 0.0567Epoch 00010: val_loss did not improve\n",
      "668/668 [==============================] - 109s - loss: 4.3433 - acc: 0.0568 - val_loss: 4.0673 - val_acc: 0.0828\n",
      "Epoch 12/20\n",
      "667/668 [============================>.] - ETA: 0s - loss: 4.3288 - acc: 0.0555Epoch 00011: val_loss did not improve\n",
      "668/668 [==============================] - 109s - loss: 4.3286 - acc: 0.0555 - val_loss: 4.1767 - val_acc: 0.0785\n",
      "Epoch 13/20\n",
      "667/668 [============================>.] - ETA: 0s - loss: 4.3170 - acc: 0.0587Epoch 00012: val_loss did not improve\n",
      "668/668 [==============================] - 110s - loss: 4.3178 - acc: 0.0587 - val_loss: 4.2965 - val_acc: 0.0583\n",
      "Epoch 14/20\n",
      "667/668 [============================>.] - ETA: 0s - loss: 4.3422 - acc: 0.0560Epoch 00013: val_loss did not improve\n",
      "668/668 [==============================] - 109s - loss: 4.3417 - acc: 0.0560 - val_loss: 4.2999 - val_acc: 0.0442\n",
      "Epoch 15/20\n",
      "667/668 [============================>.] - ETA: 0s - loss: 4.3285 - acc: 0.0504Epoch 00014: val_loss did not improve\n",
      "668/668 [==============================] - 109s - loss: 4.3279 - acc: 0.0504 - val_loss: 4.0178 - val_acc: 0.0840\n",
      "Epoch 16/20\n",
      "667/668 [============================>.] - ETA: 0s - loss: 4.3412 - acc: 0.0547Epoch 00015: val_loss did not improve\n",
      "668/668 [==============================] - 109s - loss: 4.3415 - acc: 0.0547 - val_loss: 4.0904 - val_acc: 0.0693\n",
      "Epoch 17/20\n",
      "667/668 [============================>.] - ETA: 0s - loss: 4.3369 - acc: 0.0575Epoch 00016: val_loss did not improve\n",
      "668/668 [==============================] - 110s - loss: 4.3371 - acc: 0.0574 - val_loss: 4.1362 - val_acc: 0.0724\n",
      "Epoch 18/20\n",
      "667/668 [============================>.] - ETA: 0s - loss: 4.3460 - acc: 0.0557Epoch 00017: val_loss did not improve\n",
      "668/668 [==============================] - 109s - loss: 4.3465 - acc: 0.0556 - val_loss: 4.3216 - val_acc: 0.0491\n",
      "Epoch 19/20\n",
      "667/668 [============================>.] - ETA: 0s - loss: 4.3291 - acc: 0.0586Epoch 00018: val_loss did not improve\n",
      "668/668 [==============================] - 108s - loss: 4.3300 - acc: 0.0585 - val_loss: 4.3358 - val_acc: 0.0368\n",
      "Epoch 20/20\n",
      "667/668 [============================>.] - ETA: 0s - loss: 4.3465 - acc: 0.0561Epoch 00019: val_loss did not improve\n",
      "668/668 [==============================] - 109s - loss: 4.3468 - acc: 0.0561 - val_loss: 4.0882 - val_acc: 0.0712\n"
     ]
    },
    {
     "data": {
      "text/plain": [
       "<keras.callbacks.History at 0x7fc7700a1b38>"
      ]
     },
     "execution_count": 49,
     "metadata": {},
     "output_type": "execute_result"
    }
   ],
   "source": [
    "# Batch size as above\n",
    "batch_size = 20 \n",
    "\n",
    "# Parameters for data augmentation for training and validation\n",
    "train_datagen = ImageDataGenerator(\n",
    "    shear_range        = 0.2,\n",
    "    rotation_range     = 15.,\n",
    "    width_shift_range  = 0.2,\n",
    "    height_shift_range = 0.2,\n",
    "    zoom_range         = 0.15,\n",
    "    horizontal_flip    = False, # horizontal flips do not make sense if there is no image wrongly directed\n",
    "    vertical_flip      = True\n",
    ")\n",
    "\n",
    "test_datagen = ImageDataGenerator()\n",
    "\n",
    "# Data generator for training and validation data\n",
    "train_generator = train_datagen.flow(\n",
    "    x          = train_tensors, \n",
    "    y          = train_targets,\n",
    "    batch_size = batch_size\n",
    ")\n",
    "\n",
    "validation_generator = test_datagen.flow(\n",
    "    x          = valid_tensors, \n",
    "    y          = valid_targets,\n",
    "    batch_size = batch_size\n",
    ")\n",
    "\n",
    "# Checkpointer\n",
    "checkpointer_augment = ModelCheckpoint(filepath       = 'saved_models/weights.best.from_scratch_augmentation.hdf5', \n",
    "                                       verbose        = 1, \n",
    "                                       save_best_only = True)\n",
    "\n",
    "# fine-tune the model\n",
    "nb_train_samples = train_tensors.shape[0]\n",
    "nb_validation_samples = valid_tensors.shape[0]\n",
    "model.fit_generator(\n",
    "    train_generator,\n",
    "    steps_per_epoch  = nb_train_samples // batch_size * 2,\n",
    "    epochs           = epochs,\n",
    "    validation_data  = validation_generator,\n",
    "    validation_steps = nb_validation_samples // batch_size * 2,\n",
    "    callbacks        = [checkpointer_augment]\n",
    ")"
   ]
  },
  {
   "cell_type": "markdown",
   "metadata": {},
   "source": [
    "### Load the Model with the Best Validation Loss"
   ]
  },
  {
   "cell_type": "code",
   "execution_count": 50,
   "metadata": {
    "collapsed": true
   },
   "outputs": [],
   "source": [
    "model.load_weights('saved_models/weights.best.from_scratch_augmentation.hdf5')"
   ]
  },
  {
   "cell_type": "markdown",
   "metadata": {},
   "source": [
    "### Test the model with augumented data"
   ]
  },
  {
   "cell_type": "code",
   "execution_count": 51,
   "metadata": {},
   "outputs": [
    {
     "name": "stdout",
     "output_type": "stream",
     "text": [
      "Test accuracy: 11.0048%\n"
     ]
    }
   ],
   "source": [
    "# get index of predicted dog breed for each image in test set\n",
    "dog_breed_predictions = [np.argmax(model.predict(np.expand_dims(tensor, axis=0))) for tensor in test_tensors]\n",
    "\n",
    "# report test accuracy\n",
    "test_accuracy = 100*np.sum(np.array(dog_breed_predictions)==np.argmax(test_targets, axis=1))/len(dog_breed_predictions)\n",
    "print('Test accuracy: %.4f%%' % test_accuracy)"
   ]
  },
  {
   "cell_type": "markdown",
   "metadata": {},
   "source": [
    "---\n",
    "<a id='step4'></a>\n",
    "## Step 4: Use a CNN to Classify Dog Breeds\n",
    "\n",
    "To reduce training time without sacrificing accuracy, we show you how to train a CNN using transfer learning.  In the following step, you will get a chance to use transfer learning to train your own CNN.\n",
    "\n",
    "### Obtain Bottleneck Features"
   ]
  },
  {
   "cell_type": "code",
   "execution_count": 52,
   "metadata": {
    "collapsed": true
   },
   "outputs": [],
   "source": [
    "bottleneck_features = np.load('bottleneck_features/DogVGG16Data.npz')\n",
    "train_VGG16 = bottleneck_features['train']\n",
    "valid_VGG16 = bottleneck_features['valid']\n",
    "test_VGG16 = bottleneck_features['test']"
   ]
  },
  {
   "cell_type": "markdown",
   "metadata": {},
   "source": [
    "### Model Architecture\n",
    "\n",
    "The model uses the the pre-trained VGG-16 model as a fixed feature extractor, where the last convolutional output of VGG-16 is fed as input to our model.  We only add a global average pooling layer and a fully connected layer, where the latter contains one node for each dog category and is equipped with a softmax."
   ]
  },
  {
   "cell_type": "code",
   "execution_count": 71,
   "metadata": {},
   "outputs": [
    {
     "name": "stdout",
     "output_type": "stream",
     "text": [
      "_________________________________________________________________\n",
      "Layer (type)                 Output Shape              Param #   \n",
      "=================================================================\n",
      "global_average_pooling2d_4 ( (None, 512)               0         \n",
      "_________________________________________________________________\n",
      "dense_18 (Dense)             (None, 133)               68229     \n",
      "=================================================================\n",
      "Total params: 68,229.0\n",
      "Trainable params: 68,229.0\n",
      "Non-trainable params: 0.0\n",
      "_________________________________________________________________\n"
     ]
    }
   ],
   "source": [
    "VGG16_model = Sequential()\n",
    "VGG16_model.add(GlobalAveragePooling2D(input_shape=train_VGG16.shape[1:]))\n",
    "model.add(Dropout(0.5))\n",
    "VGG16_model.add(Dense(133, activation='softmax'))\n",
    "\n",
    "VGG16_model.summary()"
   ]
  },
  {
   "cell_type": "markdown",
   "metadata": {},
   "source": [
    "### Compile the Model"
   ]
  },
  {
   "cell_type": "code",
   "execution_count": 72,
   "metadata": {
    "collapsed": true
   },
   "outputs": [],
   "source": [
    "VGG16_model.compile(loss='categorical_crossentropy', optimizer='rmsprop', metrics=['accuracy'])"
   ]
  },
  {
   "cell_type": "markdown",
   "metadata": {},
   "source": [
    "### Train the Model"
   ]
  },
  {
   "cell_type": "code",
   "execution_count": 73,
   "metadata": {},
   "outputs": [
    {
     "name": "stdout",
     "output_type": "stream",
     "text": [
      "Train on 6680 samples, validate on 835 samples\n",
      "Epoch 1/20\n",
      "6480/6680 [============================>.] - ETA: 0s - loss: 12.5986 - acc: 0.1046Epoch 00000: val_loss improved from inf to 11.00841, saving model to saved_models/weights.best.VGG16.hdf5\n",
      "6680/6680 [==============================] - 2s - loss: 12.5291 - acc: 0.1076 - val_loss: 11.0084 - val_acc: 0.1952\n",
      "Epoch 2/20\n",
      "6660/6680 [============================>.] - ETA: 0s - loss: 10.3155 - acc: 0.2656Epoch 00001: val_loss improved from 11.00841 to 10.19520, saving model to saved_models/weights.best.VGG16.hdf5\n",
      "6680/6680 [==============================] - 1s - loss: 10.3125 - acc: 0.2660 - val_loss: 10.1952 - val_acc: 0.2575\n",
      "Epoch 3/20\n",
      "6620/6680 [============================>.] - ETA: 0s - loss: 9.7017 - acc: 0.3311Epoch 00002: val_loss improved from 10.19520 to 9.95680, saving model to saved_models/weights.best.VGG16.hdf5\n",
      "6680/6680 [==============================] - 1s - loss: 9.6991 - acc: 0.3314 - val_loss: 9.9568 - val_acc: 0.3054\n",
      "Epoch 4/20\n",
      "6660/6680 [============================>.] - ETA: 0s - loss: 9.4758 - acc: 0.3596Epoch 00003: val_loss improved from 9.95680 to 9.76019, saving model to saved_models/weights.best.VGG16.hdf5\n",
      "6680/6680 [==============================] - 1s - loss: 9.4797 - acc: 0.3593 - val_loss: 9.7602 - val_acc: 0.3150\n",
      "Epoch 5/20\n",
      "6520/6680 [============================>.] - ETA: 0s - loss: 9.3198 - acc: 0.3848Epoch 00004: val_loss did not improve\n",
      "6680/6680 [==============================] - 1s - loss: 9.3280 - acc: 0.3844 - val_loss: 9.8014 - val_acc: 0.3246\n",
      "Epoch 6/20\n",
      "6460/6680 [============================>.] - ETA: 0s - loss: 9.2542 - acc: 0.3985Epoch 00005: val_loss did not improve\n",
      "6680/6680 [==============================] - 1s - loss: 9.2503 - acc: 0.3991 - val_loss: 9.7745 - val_acc: 0.3293\n",
      "Epoch 7/20\n",
      "6440/6680 [===========================>..] - ETA: 0s - loss: 9.1960 - acc: 0.4045Epoch 00006: val_loss improved from 9.76019 to 9.63901, saving model to saved_models/weights.best.VGG16.hdf5\n",
      "6680/6680 [==============================] - 1s - loss: 9.1858 - acc: 0.4052 - val_loss: 9.6390 - val_acc: 0.3401\n",
      "Epoch 8/20\n",
      "6600/6680 [============================>.] - ETA: 0s - loss: 9.0004 - acc: 0.4097Epoch 00007: val_loss improved from 9.63901 to 9.46625, saving model to saved_models/weights.best.VGG16.hdf5\n",
      "6680/6680 [==============================] - 1s - loss: 8.9952 - acc: 0.4103 - val_loss: 9.4662 - val_acc: 0.3497\n",
      "Epoch 9/20\n",
      "6480/6680 [============================>.] - ETA: 0s - loss: 8.8301 - acc: 0.4313Epoch 00008: val_loss did not improve\n",
      "6680/6680 [==============================] - 1s - loss: 8.8447 - acc: 0.4298 - val_loss: 9.4763 - val_acc: 0.3533\n",
      "Epoch 10/20\n",
      "6660/6680 [============================>.] - ETA: 0s - loss: 8.8025 - acc: 0.4380Epoch 00009: val_loss improved from 9.46625 to 9.41296, saving model to saved_models/weights.best.VGG16.hdf5\n",
      "6680/6680 [==============================] - 1s - loss: 8.8021 - acc: 0.4380 - val_loss: 9.4130 - val_acc: 0.3425\n",
      "Epoch 11/20\n",
      "6640/6680 [============================>.] - ETA: 0s - loss: 8.7575 - acc: 0.4408Epoch 00010: val_loss improved from 9.41296 to 9.40363, saving model to saved_models/weights.best.VGG16.hdf5\n",
      "6680/6680 [==============================] - 1s - loss: 8.7414 - acc: 0.4418 - val_loss: 9.4036 - val_acc: 0.3629\n",
      "Epoch 12/20\n",
      "6660/6680 [============================>.] - ETA: 0s - loss: 8.6490 - acc: 0.4506Epoch 00011: val_loss improved from 9.40363 to 9.27275, saving model to saved_models/weights.best.VGG16.hdf5\n",
      "6680/6680 [==============================] - 1s - loss: 8.6377 - acc: 0.4513 - val_loss: 9.2728 - val_acc: 0.3569\n",
      "Epoch 13/20\n",
      "6540/6680 [============================>.] - ETA: 0s - loss: 8.5308 - acc: 0.4604Epoch 00012: val_loss improved from 9.27275 to 9.16034, saving model to saved_models/weights.best.VGG16.hdf5\n",
      "6680/6680 [==============================] - 1s - loss: 8.5241 - acc: 0.4606 - val_loss: 9.1603 - val_acc: 0.3749\n",
      "Epoch 14/20\n",
      "6520/6680 [============================>.] - ETA: 0s - loss: 8.4851 - acc: 0.4649Epoch 00013: val_loss improved from 9.16034 to 9.11672, saving model to saved_models/weights.best.VGG16.hdf5\n",
      "6680/6680 [==============================] - 1s - loss: 8.5000 - acc: 0.4641 - val_loss: 9.1167 - val_acc: 0.3832\n",
      "Epoch 15/20\n",
      "6640/6680 [============================>.] - ETA: 0s - loss: 8.4776 - acc: 0.4681Epoch 00014: val_loss did not improve\n",
      "6680/6680 [==============================] - 1s - loss: 8.4824 - acc: 0.4678 - val_loss: 9.1957 - val_acc: 0.3725\n",
      "Epoch 16/20\n",
      "6500/6680 [============================>.] - ETA: 0s - loss: 8.3729 - acc: 0.4711Epoch 00015: val_loss improved from 9.11672 to 9.10877, saving model to saved_models/weights.best.VGG16.hdf5\n",
      "6680/6680 [==============================] - 1s - loss: 8.4032 - acc: 0.4693 - val_loss: 9.1088 - val_acc: 0.3737\n",
      "Epoch 17/20\n",
      "6640/6680 [============================>.] - ETA: 0s - loss: 8.3262 - acc: 0.4764Epoch 00016: val_loss improved from 9.10877 to 9.06611, saving model to saved_models/weights.best.VGG16.hdf5\n",
      "6680/6680 [==============================] - 1s - loss: 8.3366 - acc: 0.4757 - val_loss: 9.0661 - val_acc: 0.3820\n",
      "Epoch 18/20\n",
      "6520/6680 [============================>.] - ETA: 0s - loss: 8.3257 - acc: 0.4785Epoch 00017: val_loss improved from 9.06611 to 9.03540, saving model to saved_models/weights.best.VGG16.hdf5\n",
      "6680/6680 [==============================] - 1s - loss: 8.3137 - acc: 0.4792 - val_loss: 9.0354 - val_acc: 0.3737\n",
      "Epoch 19/20\n",
      "6640/6680 [============================>.] - ETA: 0s - loss: 8.1261 - acc: 0.4797Epoch 00018: val_loss improved from 9.03540 to 8.87620, saving model to saved_models/weights.best.VGG16.hdf5\n",
      "6680/6680 [==============================] - 1s - loss: 8.1244 - acc: 0.4798 - val_loss: 8.8762 - val_acc: 0.3844\n",
      "Epoch 20/20\n",
      "6660/6680 [============================>.] - ETA: 0s - loss: 7.9021 - acc: 0.4908Epoch 00019: val_loss improved from 8.87620 to 8.68038, saving model to saved_models/weights.best.VGG16.hdf5\n",
      "6680/6680 [==============================] - 1s - loss: 7.9001 - acc: 0.4910 - val_loss: 8.6804 - val_acc: 0.3916\n"
     ]
    },
    {
     "data": {
      "text/plain": [
       "<keras.callbacks.History at 0x7fc64e0b7a90>"
      ]
     },
     "execution_count": 73,
     "metadata": {},
     "output_type": "execute_result"
    }
   ],
   "source": [
    "checkpointer = ModelCheckpoint(filepath='saved_models/weights.best.VGG16.hdf5', \n",
    "                               verbose=1, save_best_only=True)\n",
    "\n",
    "VGG16_model.fit(train_VGG16, train_targets, \n",
    "          validation_data=(valid_VGG16, valid_targets),\n",
    "          epochs=20, batch_size=20, callbacks=[checkpointer], verbose=1)"
   ]
  },
  {
   "cell_type": "markdown",
   "metadata": {},
   "source": [
    "### Load the Model with the Best Validation Loss"
   ]
  },
  {
   "cell_type": "code",
   "execution_count": 74,
   "metadata": {
    "collapsed": true
   },
   "outputs": [],
   "source": [
    "VGG16_model.load_weights('saved_models/weights.best.VGG16.hdf5')"
   ]
  },
  {
   "cell_type": "markdown",
   "metadata": {},
   "source": [
    "### Test the Model\n",
    "\n",
    "Now, we can use the CNN to test how well it identifies breed within our test dataset of dog images.  We print the test accuracy below."
   ]
  },
  {
   "cell_type": "code",
   "execution_count": 75,
   "metadata": {},
   "outputs": [
    {
     "name": "stdout",
     "output_type": "stream",
     "text": [
      "Test accuracy: 41.1483%\n"
     ]
    }
   ],
   "source": [
    "# get index of predicted dog breed for each image in test set\n",
    "VGG16_predictions = [np.argmax(VGG16_model.predict(np.expand_dims(feature, axis=0))) for feature in test_VGG16]\n",
    "\n",
    "# report test accuracy\n",
    "test_accuracy = 100*np.sum(np.array(VGG16_predictions)==np.argmax(test_targets, axis=1))/len(VGG16_predictions)\n",
    "print('Test accuracy: %.4f%%' % test_accuracy)"
   ]
  },
  {
   "cell_type": "markdown",
   "metadata": {},
   "source": [
    "### Predict Dog Breed with the Model"
   ]
  },
  {
   "cell_type": "code",
   "execution_count": 58,
   "metadata": {
    "collapsed": true
   },
   "outputs": [],
   "source": [
    "from extract_bottleneck_features import *\n",
    "\n",
    "def VGG16_predict_breed(img_path):\n",
    "    # extract bottleneck features\n",
    "    bottleneck_feature = extract_VGG16(path_to_tensor(img_path))\n",
    "    # obtain predicted vector\n",
    "    predicted_vector = VGG16_model.predict(bottleneck_feature)\n",
    "    # return dog breed that is predicted by the model\n",
    "    return dog_names[np.argmax(predicted_vector)]"
   ]
  },
  {
   "cell_type": "markdown",
   "metadata": {},
   "source": [
    "---\n",
    "<a id='step5'></a>\n",
    "## Step 5: Create a CNN to Classify Dog Breeds (using Transfer Learning)\n",
    "\n",
    "You will now use transfer learning to create a CNN that can identify dog breed from images.  Your CNN must attain at least 60% accuracy on the test set.\n",
    "\n",
    "In Step 4, we used transfer learning to create a CNN using VGG-16 bottleneck features.  In this section, you must use the bottleneck features from a different pre-trained model.  To make things easier for you, we have pre-computed the features for all of the networks that are currently available in Keras:\n",
    "- [VGG-19](https://s3-us-west-1.amazonaws.com/udacity-aind/dog-project/DogVGG19Data.npz) bottleneck features\n",
    "- [ResNet-50](https://s3-us-west-1.amazonaws.com/udacity-aind/dog-project/DogResnet50Data.npz) bottleneck features\n",
    "- [Inception](https://s3-us-west-1.amazonaws.com/udacity-aind/dog-project/DogInceptionV3Data.npz) bottleneck features\n",
    "- [Xception](https://s3-us-west-1.amazonaws.com/udacity-aind/dog-project/DogXceptionData.npz) bottleneck features\n",
    "\n",
    "The files are encoded as such:\n",
    "\n",
    "    Dog{network}Data.npz\n",
    "    \n",
    "where `{network}`, in the above filename, can be one of `VGG19`, `Resnet50`, `InceptionV3`, or `Xception`.  Pick one of the above architectures, download the corresponding bottleneck features, and store the downloaded file in the `bottleneck_features/` folder in the repository.\n",
    "\n",
    "### (IMPLEMENTATION) Obtain Bottleneck Features -- DONE\n",
    "\n",
    "In the code block below, extract the bottleneck features corresponding to the train, test, and validation sets by running the following:\n",
    "\n",
    "    bottleneck_features = np.load('bottleneck_features/Dog{network}Data.npz')\n",
    "    train_{network} = bottleneck_features['train']\n",
    "    valid_{network} = bottleneck_features['valid']\n",
    "    test_{network} = bottleneck_features['test']"
   ]
  },
  {
   "cell_type": "code",
   "execution_count": 118,
   "metadata": {},
   "outputs": [],
   "source": [
    "# VG-19\n",
    "bottleneck_features = np.load('bottleneck_features/DogVGG19Data.npz')\n",
    "train_vgg19 = bottleneck_features['train']\n",
    "valid_vgg19 = bottleneck_features['valid']\n",
    "test_vgg19 = bottleneck_features['test']\n",
    "\n",
    "# ResNet-50\n",
    "bottleneck_features = np.load('bottleneck_features/DogResnet50Data.npz')\n",
    "train_resnet50 = bottleneck_features['train']\n",
    "valid_resnet50 = bottleneck_features['valid']\n",
    "test_resnet50 = bottleneck_features['test']\n",
    "\n",
    "# Inception\n",
    "bottleneck_features = np.load('bottleneck_features/DogInceptionV3Data.npz')\n",
    "train_inception = bottleneck_features['train']\n",
    "valid_inception = bottleneck_features['valid']\n",
    "test_inception = bottleneck_features['test']\n",
    "\n",
    "# Xception\n",
    "bottleneck_features = np.load('bottleneck_features/DogXceptionData.npz')\n",
    "train_xception = bottleneck_features['train']\n",
    "valid_xception = bottleneck_features['valid']\n",
    "test_xception = bottleneck_features['test']"
   ]
  },
  {
   "cell_type": "markdown",
   "metadata": {},
   "source": [
    "### (IMPLEMENTATION) Model Architecture\n",
    "\n",
    "Create a CNN to classify dog breed.  At the end of your code cell block, summarize the layers of your model by executing the line:\n",
    "    \n",
    "        <your model's name>.summary()\n",
    "   \n",
    "__Question 5:__ Outline the steps you took to get to your final CNN architecture and your reasoning at each step.  Describe why you think the architecture is suitable for the current problem.\n",
    "\n",
    "__Answer:__ \n",
    "\n",
    "0. Augmentation: I do not know how to do this with the bottleneck features\n",
    "\n",
    "1. Similar to the model in step 4, I added an averaging pooling and a fully connected layer.\n",
    "\n",
    "2. All in Keras available models are examined. I got the best result with the Xception features\n",
    "\n"
   ]
  },
  {
   "cell_type": "code",
   "execution_count": 122,
   "metadata": {},
   "outputs": [
    {
     "name": "stdout",
     "output_type": "stream",
     "text": [
      "_________________________________________________________________\n",
      "Layer (type)                 Output Shape              Param #   \n",
      "=================================================================\n",
      "global_average_pooling2d_13  (None, 2048)              0         \n",
      "_________________________________________________________________\n",
      "dense_27 (Dense)             (None, 133)               272517    \n",
      "=================================================================\n",
      "Total params: 272,517.0\n",
      "Trainable params: 272,517.0\n",
      "Non-trainable params: 0.0\n",
      "_________________________________________________________________\n"
     ]
    }
   ],
   "source": [
    "# Data\n",
    "train_transfer = train_xception\n",
    "valid_transfer = valid_xception\n",
    "test_transfer = test_xception\n",
    "\n",
    "# New Model\n",
    "model_tl = Sequential()\n",
    "model_tl.add(GlobalAveragePooling2D(input_shape=train_transfer.shape[1:]))\n",
    "model_tl.add(Dense(133, activation='softmax'))\n",
    "\n",
    "model_tl.summary()"
   ]
  },
  {
   "cell_type": "markdown",
   "metadata": {},
   "source": [
    "### (IMPLEMENTATION) Compile the Model"
   ]
  },
  {
   "cell_type": "code",
   "execution_count": 120,
   "metadata": {},
   "outputs": [],
   "source": [
    "model_tl.compile(loss='categorical_crossentropy', optimizer='rmsprop', metrics=['accuracy'])"
   ]
  },
  {
   "cell_type": "markdown",
   "metadata": {},
   "source": [
    "### (IMPLEMENTATION) Train the Model\n",
    "\n",
    "Train your model in the code cell below.  Use model checkpointing to save the model that attains the best validation loss.  \n",
    "\n",
    "You are welcome to [augment the training data](https://blog.keras.io/building-powerful-image-classification-models-using-very-little-data.html), but this is not a requirement. "
   ]
  },
  {
   "cell_type": "code",
   "execution_count": 121,
   "metadata": {},
   "outputs": [
    {
     "name": "stdout",
     "output_type": "stream",
     "text": [
      "Train on 6680 samples, validate on 835 samples\n",
      "Epoch 1/20\n",
      "6620/6680 [============================>.] - ETA: 0s - loss: 1.0546 - acc: 0.7370Epoch 00000: val_loss improved from inf to 0.52360, saving model to saved_models/weights.best.resnet50.hdf5\n",
      "6680/6680 [==============================] - 3s - loss: 1.0486 - acc: 0.7380 - val_loss: 0.5236 - val_acc: 0.8263\n",
      "Epoch 2/20\n",
      "6640/6680 [============================>.] - ETA: 0s - loss: 0.3989 - acc: 0.8721Epoch 00001: val_loss improved from 0.52360 to 0.49314, saving model to saved_models/weights.best.resnet50.hdf5\n",
      "6680/6680 [==============================] - 3s - loss: 0.3975 - acc: 0.8725 - val_loss: 0.4931 - val_acc: 0.8467\n",
      "Epoch 3/20\n",
      "6660/6680 [============================>.] - ETA: 0s - loss: 0.3180 - acc: 0.8986Epoch 00002: val_loss improved from 0.49314 to 0.49286, saving model to saved_models/weights.best.resnet50.hdf5\n",
      "6680/6680 [==============================] - 3s - loss: 0.3177 - acc: 0.8987 - val_loss: 0.4929 - val_acc: 0.8491\n",
      "Epoch 4/20\n",
      "6600/6680 [============================>.] - ETA: 0s - loss: 0.2767 - acc: 0.9129Epoch 00003: val_loss improved from 0.49286 to 0.48302, saving model to saved_models/weights.best.resnet50.hdf5\n",
      "6680/6680 [==============================] - 3s - loss: 0.2745 - acc: 0.9135 - val_loss: 0.4830 - val_acc: 0.8575\n",
      "Epoch 5/20\n",
      "6640/6680 [============================>.] - ETA: 0s - loss: 0.2399 - acc: 0.9252Epoch 00004: val_loss improved from 0.48302 to 0.47548, saving model to saved_models/weights.best.resnet50.hdf5\n",
      "6680/6680 [==============================] - 3s - loss: 0.2405 - acc: 0.9253 - val_loss: 0.4755 - val_acc: 0.8539\n",
      "Epoch 6/20\n",
      "6640/6680 [============================>.] - ETA: 0s - loss: 0.2111 - acc: 0.9333Epoch 00005: val_loss did not improve\n",
      "6680/6680 [==============================] - 3s - loss: 0.2108 - acc: 0.9334 - val_loss: 0.5323 - val_acc: 0.8515\n",
      "Epoch 7/20\n",
      "6620/6680 [============================>.] - ETA: 0s - loss: 0.1932 - acc: 0.9397Epoch 00006: val_loss did not improve\n",
      "6680/6680 [==============================] - 3s - loss: 0.1931 - acc: 0.9398 - val_loss: 0.5506 - val_acc: 0.8443\n",
      "Epoch 8/20\n",
      "6620/6680 [============================>.] - ETA: 0s - loss: 0.1751 - acc: 0.9453Epoch 00007: val_loss did not improve\n",
      "6680/6680 [==============================] - 3s - loss: 0.1750 - acc: 0.9452 - val_loss: 0.5654 - val_acc: 0.8527\n",
      "Epoch 9/20\n",
      "6620/6680 [============================>.] - ETA: 0s - loss: 0.1576 - acc: 0.9523Epoch 00008: val_loss did not improve\n",
      "6680/6680 [==============================] - 3s - loss: 0.1580 - acc: 0.9521 - val_loss: 0.5574 - val_acc: 0.8527\n",
      "Epoch 10/20\n",
      "6620/6680 [============================>.] - ETA: 0s - loss: 0.1412 - acc: 0.9545Epoch 00009: val_loss did not improve\n",
      "6680/6680 [==============================] - 3s - loss: 0.1410 - acc: 0.9545 - val_loss: 0.6146 - val_acc: 0.8491\n",
      "Epoch 11/20\n",
      "6620/6680 [============================>.] - ETA: 0s - loss: 0.1323 - acc: 0.9588Epoch 00010: val_loss did not improve\n",
      "6680/6680 [==============================] - 3s - loss: 0.1324 - acc: 0.9587 - val_loss: 0.5947 - val_acc: 0.8455\n",
      "Epoch 12/20\n",
      "6580/6680 [============================>.] - ETA: 0s - loss: 0.1234 - acc: 0.9628Epoch 00011: val_loss did not improve\n",
      "6680/6680 [==============================] - 3s - loss: 0.1224 - acc: 0.9630 - val_loss: 0.5713 - val_acc: 0.8623\n",
      "Epoch 13/20\n",
      "6640/6680 [============================>.] - ETA: 0s - loss: 0.1134 - acc: 0.9661Epoch 00012: val_loss did not improve\n",
      "6680/6680 [==============================] - 3s - loss: 0.1150 - acc: 0.9656 - val_loss: 0.6005 - val_acc: 0.8539\n",
      "Epoch 14/20\n",
      "6640/6680 [============================>.] - ETA: 0s - loss: 0.1044 - acc: 0.9694Epoch 00013: val_loss did not improve\n",
      "6680/6680 [==============================] - 3s - loss: 0.1046 - acc: 0.9692 - val_loss: 0.6240 - val_acc: 0.8503\n",
      "Epoch 15/20\n",
      "6640/6680 [============================>.] - ETA: 0s - loss: 0.0979 - acc: 0.9718Epoch 00014: val_loss did not improve\n",
      "6680/6680 [==============================] - 3s - loss: 0.0976 - acc: 0.9719 - val_loss: 0.6489 - val_acc: 0.8503\n",
      "Epoch 16/20\n",
      "6620/6680 [============================>.] - ETA: 0s - loss: 0.0918 - acc: 0.9725Epoch 00015: val_loss did not improve\n",
      "6680/6680 [==============================] - 3s - loss: 0.0916 - acc: 0.9725 - val_loss: 0.6518 - val_acc: 0.8515\n",
      "Epoch 17/20\n",
      "6660/6680 [============================>.] - ETA: 0s - loss: 0.0864 - acc: 0.9737Epoch 00016: val_loss did not improve\n",
      "6680/6680 [==============================] - 3s - loss: 0.0861 - acc: 0.9738 - val_loss: 0.6317 - val_acc: 0.8623\n",
      "Epoch 18/20\n",
      "6600/6680 [============================>.] - ETA: 0s - loss: 0.0793 - acc: 0.9779Epoch 00017: val_loss did not improve\n",
      "6680/6680 [==============================] - 3s - loss: 0.0795 - acc: 0.9778 - val_loss: 0.6410 - val_acc: 0.8587\n",
      "Epoch 19/20\n",
      "6580/6680 [============================>.] - ETA: 0s - loss: 0.0747 - acc: 0.9780Epoch 00018: val_loss did not improve\n",
      "6680/6680 [==============================] - 3s - loss: 0.0757 - acc: 0.9780 - val_loss: 0.7006 - val_acc: 0.8587\n",
      "Epoch 20/20\n",
      "6560/6680 [============================>.] - ETA: 0s - loss: 0.0704 - acc: 0.9808Epoch 00019: val_loss did not improve\n",
      "6680/6680 [==============================] - 3s - loss: 0.0701 - acc: 0.9807 - val_loss: 0.6972 - val_acc: 0.8491\n"
     ]
    },
    {
     "data": {
      "text/plain": [
       "<keras.callbacks.History at 0x7fc64d6afdd8>"
      ]
     },
     "execution_count": 121,
     "metadata": {},
     "output_type": "execute_result"
    }
   ],
   "source": [
    "checkpointer = ModelCheckpoint(filepath='saved_models/weights.best.resnet50.hdf5', \n",
    "                               verbose=1, save_best_only=True)\n",
    "\n",
    "model_tl.fit(train_transfer, train_targets, \n",
    "          validation_data=(valid_transfer, valid_targets),\n",
    "          epochs=20, batch_size=20, callbacks=[checkpointer], verbose=1)"
   ]
  },
  {
   "cell_type": "markdown",
   "metadata": {},
   "source": [
    "### (IMPLEMENTATION) Load the Model with the Best Validation Loss"
   ]
  },
  {
   "cell_type": "code",
   "execution_count": 123,
   "metadata": {},
   "outputs": [],
   "source": [
    "model_tl.load_weights('saved_models/weights.best.resnet50.hdf5')"
   ]
  },
  {
   "cell_type": "markdown",
   "metadata": {},
   "source": [
    "### (IMPLEMENTATION) Test the Model\n",
    "\n",
    "Try out your model on the test dataset of dog images. Ensure that your test accuracy is greater than 60%."
   ]
  },
  {
   "cell_type": "code",
   "execution_count": 124,
   "metadata": {},
   "outputs": [
    {
     "name": "stdout",
     "output_type": "stream",
     "text": [
      "Test accuracy: 84.9282%\n"
     ]
    }
   ],
   "source": [
    "# get index of predicted dog breed for each image in test set\n",
    "transfer_predictions = [np.argmax(model_tl.predict(np.expand_dims(feature, axis=0))) for feature in test_transfer]\n",
    "\n",
    "# report test accuracy\n",
    "test_accuracy = 100*np.sum(np.array(transfer_predictions)==np.argmax(test_targets, axis=1))/len(transfer_predictions)\n",
    "print('Test accuracy: %.4f%%' % test_accuracy)"
   ]
  },
  {
   "cell_type": "markdown",
   "metadata": {},
   "source": [
    "### (IMPLEMENTATION) Predict Dog Breed with the Model\n",
    "\n",
    "Write a function that takes an image path as input and returns the dog breed (`Affenpinscher`, `Afghan_hound`, etc) that is predicted by your model.  \n",
    "\n",
    "Similar to the analogous function in Step 5, your function should have three steps:\n",
    "1. Extract the bottleneck features corresponding to the chosen CNN model.\n",
    "2. Supply the bottleneck features as input to the model to return the predicted vector.  Note that the argmax of this prediction vector gives the index of the predicted dog breed.\n",
    "3. Use the `dog_names` array defined in Step 0 of this notebook to return the corresponding breed.\n",
    "\n",
    "The functions to extract the bottleneck features can be found in `extract_bottleneck_features.py`, and they have been imported in an earlier code cell.  To obtain the bottleneck features corresponding to your chosen CNN architecture, you need to use the function\n",
    "\n",
    "    extract_{network}\n",
    "    \n",
    "where `{network}`, in the above filename, should be one of `VGG19`, `Resnet50`, `InceptionV3`, or `Xception`."
   ]
  },
  {
   "cell_type": "code",
   "execution_count": 125,
   "metadata": {
    "collapsed": true
   },
   "outputs": [],
   "source": [
    "from extract_bottleneck_features import *\n",
    "\n",
    "def ensemble_predict_breed(img_path):\n",
    "    # extract bottleneck features\n",
    "    bottleneck_feature = extract_VGG16(path_to_tensor(img_path))\n",
    "    # obtain predicted vector\n",
    "    predicted_vector = VGG16_model.predict(bottleneck_feature)\n",
    "    # return dog breed that is predicted by the model\n",
    "    return dog_names[np.argmax(predicted_vector)]"
   ]
  },
  {
   "cell_type": "markdown",
   "metadata": {},
   "source": [
    "---\n",
    "<a id='step6'></a>\n",
    "## Step 6: Write your Algorithm\n",
    "\n",
    "Write an algorithm that accepts a file path to an image and first determines whether the image contains a human, dog, or neither.  Then,\n",
    "- if a __dog__ is detected in the image, return the predicted breed.\n",
    "- if a __human__ is detected in the image, return the resembling dog breed.\n",
    "- if __neither__ is detected in the image, provide output that indicates an error.\n",
    "\n",
    "You are welcome to write your own functions for detecting humans and dogs in images, but feel free to use the `face_detector` and `dog_detector` functions developed above.  You are __required__ to use your CNN from Step 5 to predict dog breed.  \n",
    "\n",
    "Some sample output for our algorithm is provided below, but feel free to design your own user experience!\n",
    "\n",
    "![Sample Human Output](images/sample_human_output.png)\n",
    "\n",
    "\n",
    "### (IMPLEMENTATION) Write your Algorithm"
   ]
  },
  {
   "cell_type": "markdown",
   "metadata": {},
   "source": [
    "### Definition of classes for the final application"
   ]
  },
  {
   "cell_type": "code",
   "execution_count": 128,
   "metadata": {
    "collapsed": true
   },
   "outputs": [],
   "source": [
    "from keras.models import model_from_json\n",
    "from keras.applications.resnet50 import ResNet50, preprocess_input, decode_predictions\n",
    "from keras.preprocessing import image                  \n",
    "\n",
    "from tqdm import tqdm\n",
    "\n",
    "import cv2 \n",
    "import numpy as np\n",
    "\n",
    "\n",
    "class DLHelper(object):\n",
    "    \n",
    "    def __init__(self):\n",
    "        pass\n",
    "        \n",
    "    def path_to_tensor(img_path):\n",
    "        # loads RGB image as PIL.Image.Image type\n",
    "        img = image.load_img(img_path, target_size=(224, 224))\n",
    "        # convert PIL.Image.Image type to 3D tensor with shape (224, 224, 3)\n",
    "        x = image.img_to_array(img)\n",
    "        # convert 3D tensor to 4D tensor with shape (1, 224, 224, 3) and return 4D tensor\n",
    "        return np.expand_dims(x, axis=0)\n",
    "    \n",
    "    def paths_to_tensor(img_paths):\n",
    "        list_of_tensors = [path_to_tensor(img_path) for img_path in tqdm(img_paths)]\n",
    "        return np.vstack(list_of_tensors)\n",
    "        \n",
    "        \n",
    "class FaceDetector(object):\n",
    "    \n",
    "    def __init__(self):\n",
    "        pass\n",
    "    \n",
    "    def predict(img_path):\n",
    "        img = cv2.imread(img_path)\n",
    "        gray = cv2.cvtColor(img, cv2.COLOR_BGR2GRAY)\n",
    "        faces = face_cascade.detectMultiScale(gray)\n",
    "        return len(faces) > 0\n",
    "\n",
    "\n",
    "class DogDetector(DLHelper):\n",
    "    \n",
    "    def __init__(self):\n",
    "        # define ResNet50 model\n",
    "        self.model = ResNet50(weights='imagenet')\n",
    "        \n",
    "    def predict(img_path):\n",
    "        prediction = self.predict_labels(img_path)\n",
    "        return ((prediction <= 268) & (prediction >= 151)) \n",
    "\n",
    "    def predict_labels(img_path):\n",
    "        # returns prediction vector for image located at img_path\n",
    "        img = preprocess_input(self.path_to_tensor(img_path))\n",
    "        return np.argmax(self.model.predict(img))\n",
    "    \n",
    "\n",
    "class BreedDetector(object):\n",
    "    \n",
    "    def __init__(self, json_path, weight_path):\n",
    "        self.model = self.load_model(json_path, weight_path)\n",
    "        # define ResNet50 model\n",
    "        self.ResNet50_model = ResNet50(weights='imagenet')\n",
    "        # extract pre-trained face detector\n",
    "        self.face_cascade = cv2.CascadeClassifier('haarcascades/haarcascade_frontalface_alt.xml')              \n",
    "\n",
    "\n",
    "    def load_model(self, json_path, weight_path):\n",
    "        try:\n",
    "            model = model_from_json(open(json_path).read())\n",
    "            model.load_weights(weight_path)\n",
    "            return model\n",
    "        except Exception as e:\n",
    "            raise Exception(\"Loading model/weights failed\")\n",
    "\n",
    "    \n",
    "    def compile_model(self, loss = 'categorical_crossentropy', optimizer = 'rmsprop', **kwargs):\n",
    "        self.model.compile(loss=loss, optimizer=optimizer, **kwargs)\n",
    "        \n",
    "        \n",
    "    def predict(img_path):\n",
    "        # extract bottleneck features\n",
    "        bottleneck_feature = extract_Xception(self.path_to_tensor(img_path))\n",
    "        # obtain predicted vector\n",
    "        predicted_vector = model_tl.predict(bottleneck_feature)\n",
    "        # return dog breed that is predicted by the model\n",
    "        return dog_names[np.argmax(predicted_vector)]"
   ]
  },
  {
   "cell_type": "markdown",
   "metadata": {},
   "source": []
  },
  {
   "cell_type": "code",
   "execution_count": null,
   "metadata": {
    "collapsed": true
   },
   "outputs": [],
   "source": [
    "class DogApp(object):\n",
    "    \n",
    "    def __init__(self, json_path, weight_path):\n",
    "        # initialize models\n",
    "        self.face = FaceDetector()\n",
    "        self.dog = DogDetector()\n",
    "        self.breed = BreedDetector(json_path, weight_path)\n",
    "        \n",
    "    def predict(img_path):\n",
    "        isHuman = self.face.predict(img_path)\n",
    "        isDog = self.dog.peredict(img_path)\n",
    "        whichBreed = self.breed.predict(img_path)\n",
    "        \n",
    "        if not isHuman and not isDog:\n",
    "            return ['The input image is neither a human nor a dog.', '']\n",
    "        elif isHuman and not isDog:\n",
    "            return ['A human!', whichBreed]\n",
    "        elif not isHuman and isDog:\n",
    "            return ['A dog!', whichBreed]\n",
    "        else:\n",
    "            return ['Spaceballs ole, half-man half-dog!', whichBreed]"
   ]
  },
  {
   "cell_type": "markdown",
   "metadata": {},
   "source": [
    "---\n",
    "<a id='step7'></a>\n",
    "## Step 7: Test Your Algorithm\n",
    "\n",
    "In this section, you will take your new algorithm for a spin!  What kind of dog does the algorithm think that __you__ look like?  If you have a dog, does it predict your dog's breed accurately?  If you have a cat, does it mistakenly think that your cat is a dog?\n",
    "\n",
    "### (IMPLEMENTATION) Test Your Algorithm on Sample Images!\n",
    "\n",
    "Test your algorithm at least six images on your computer.  Feel free to use any images you like.  Use at least two human and two dog images.  \n",
    "\n",
    "__Question 6:__ Is the output better than you expected :) ?  Or worse :( ?  Provide at least three possible points of improvement for your algorithm.\n",
    "\n",
    "__Answer:__ "
   ]
  },
  {
   "cell_type": "code",
   "execution_count": 127,
   "metadata": {
    "collapsed": true
   },
   "outputs": [],
   "source": [
    "## TODO: Execute your algorithm from Step 6 on\n",
    "## at least 6 images on your computer.\n",
    "## Feel free to use as many code cells as needed."
   ]
  },
  {
   "cell_type": "code",
   "execution_count": null,
   "metadata": {
    "collapsed": true
   },
   "outputs": [],
   "source": []
  }
 ],
 "metadata": {
  "anaconda-cloud": {},
  "kernelspec": {
   "display_name": "Python 3",
   "language": "python",
   "name": "python3"
  },
  "language_info": {
   "codemirror_mode": {
    "name": "ipython",
    "version": 3
   },
   "file_extension": ".py",
   "mimetype": "text/x-python",
   "name": "python",
   "nbconvert_exporter": "python",
   "pygments_lexer": "ipython3",
   "version": "3.6.1"
  }
 },
 "nbformat": 4,
 "nbformat_minor": 1
}
